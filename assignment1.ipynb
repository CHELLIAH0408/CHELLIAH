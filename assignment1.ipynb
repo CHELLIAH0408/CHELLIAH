{
 "cells": [
  {
   "cell_type": "code",
   "execution_count": 5,
   "id": "5dcc9510",
   "metadata": {},
   "outputs": [
    {
     "name": "stdout",
     "output_type": "stream",
     "text": [
      "\n",
      " Type of the element \n",
      " int32\n",
      "\n",
      " Shape of the array\n",
      " (10,)\n",
      "\n",
      " size of the array\n",
      " 10\n",
      "\n",
      " Reversed array\n",
      " [10  9  8  7  6  5  4  3  2  1]\n",
      "\n",
      " sliced array:\n",
      "  [3 4 5]\n",
      "\n",
      " The array element which are all greater than :\n",
      " [ 8  9 10]\n"
     ]
    }
   ],
   "source": [
    "import numpy as np\n",
    "a=np.array([1,2,3,4,5,6,7,8,9,10])\n",
    "print(\"\\n Type of the element \\n\",a.dtype)\n",
    "print(\"\\n Shape of the array\\n\",a.shape)\n",
    "print('\\n size of the array\\n',a.size)\n",
    "new=a[::-1]\n",
    "print(\"\\n Reversed array\\n\",new)\n",
    "slic=a[2:5]\n",
    "print('\\n sliced array:\\n ',slic)\n",
    "ne=a>7\n",
    "newarray=a[ne]\n",
    "print(\"\\n The array element which are all greater than :\\n\",newarray)"
   ]
  },
  {
   "cell_type": "code",
   "execution_count": null,
   "id": "2cea94f0",
   "metadata": {},
   "outputs": [],
   "source": []
  }
 ],
 "metadata": {
  "kernelspec": {
   "display_name": "Python 3 (ipykernel)",
   "language": "python",
   "name": "python3"
  },
  "language_info": {
   "codemirror_mode": {
    "name": "ipython",
    "version": 3
   },
   "file_extension": ".py",
   "mimetype": "text/x-python",
   "name": "python",
   "nbconvert_exporter": "python",
   "pygments_lexer": "ipython3",
   "version": "3.11.3"
  }
 },
 "nbformat": 4,
 "nbformat_minor": 5
}
