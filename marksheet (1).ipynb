{
 "cells": [
  {
   "cell_type": "code",
   "execution_count": 25,
   "id": "1e9ea960",
   "metadata": {},
   "outputs": [
    {
     "name": "stdout",
     "output_type": "stream",
     "text": [
      "   Roll no.  ...   T&D\n",
      "0         1  ...  53.0\n",
      "1         2  ...  65.0\n",
      "2         3  ...  33.0\n",
      "3         4  ...  32.0\n",
      "4         5  ...   NaN\n",
      "5         6  ...  54.0\n",
      "6         7  ...  23.0\n",
      "7         8  ...  43.0\n",
      "8         9  ...  43.0\n",
      "9        10  ...  75.0\n",
      "\n",
      "[10 rows x 6 columns]\n"
     ]
    }
   ],
   "source": [
    "import pandas as pd\n",
    "pd.set_option('display.max_columns',2)\n",
    "df=pd.read_excel(\"marksheet.xlsx\")\n",
    "print(df)"
   ]
  },
  {
   "cell_type": "code",
   "execution_count": 30,
   "id": "e0c350c7",
   "metadata": {},
   "outputs": [
    {
     "name": "stdout",
     "output_type": "stream",
     "text": [
      "   Roll no.  ...   T&D\n",
      "0         1  ...  53.0\n",
      "1         2  ...  65.0\n",
      "2         3  ...  33.0\n",
      "3         4  ...  32.0\n",
      "4         5  ...  32.0\n",
      "5         6  ...  54.0\n",
      "6         7  ...  23.0\n",
      "7         8  ...  43.0\n",
      "8         9  ...  43.0\n",
      "9        10  ...  75.0\n",
      "\n",
      "[10 rows x 6 columns]\n"
     ]
    },
    {
     "ename": "AttributeError",
     "evalue": "'DataFrame' object has no attribute 'to_excell'",
     "output_type": "error",
     "traceback": [
      "\u001b[0;31m---------------------------------------------------------------------------\u001b[0m",
      "\u001b[0;31mAttributeError\u001b[0m                            Traceback (most recent call last)",
      "\u001b[0;32m/var/folders/8p/5ks_hms90jb7hv3lwyld84mc0000gp/T/ipykernel_1677/3725345393.py\u001b[0m in \u001b[0;36m?\u001b[0;34m()\u001b[0m\n\u001b[1;32m      1\u001b[0m \u001b[0mk\u001b[0m\u001b[0;34m=\u001b[0m\u001b[0mdf\u001b[0m\u001b[0;34m.\u001b[0m\u001b[0mfillna\u001b[0m\u001b[0;34m(\u001b[0m\u001b[0mmethod\u001b[0m\u001b[0;34m=\u001b[0m\u001b[0;34m'pad'\u001b[0m\u001b[0;34m)\u001b[0m\u001b[0;34m\u001b[0m\u001b[0;34m\u001b[0m\u001b[0m\n\u001b[1;32m      2\u001b[0m \u001b[0mprint\u001b[0m\u001b[0;34m(\u001b[0m\u001b[0mk\u001b[0m\u001b[0;34m)\u001b[0m\u001b[0;34m\u001b[0m\u001b[0;34m\u001b[0m\u001b[0m\n\u001b[1;32m      3\u001b[0m \u001b[0;34m\u001b[0m\u001b[0m\n\u001b[0;32m----> 4\u001b[0;31m \u001b[0mk\u001b[0m\u001b[0;34m.\u001b[0m\u001b[0mto_excell\u001b[0m\u001b[0;34m(\u001b[0m\u001b[0;34m\"marksheet.xlsx\"\u001b[0m\u001b[0;34m)\u001b[0m\u001b[0;34m\u001b[0m\u001b[0;34m\u001b[0m\u001b[0m\n\u001b[0m",
      "\u001b[0;32m~/anaconda3/lib/python3.11/site-packages/pandas/core/generic.py\u001b[0m in \u001b[0;36m?\u001b[0;34m(self, name)\u001b[0m\n\u001b[1;32m   5985\u001b[0m             \u001b[0;32mand\u001b[0m \u001b[0mname\u001b[0m \u001b[0;32mnot\u001b[0m \u001b[0;32min\u001b[0m \u001b[0mself\u001b[0m\u001b[0;34m.\u001b[0m\u001b[0m_accessors\u001b[0m\u001b[0;34m\u001b[0m\u001b[0;34m\u001b[0m\u001b[0m\n\u001b[1;32m   5986\u001b[0m             \u001b[0;32mand\u001b[0m \u001b[0mself\u001b[0m\u001b[0;34m.\u001b[0m\u001b[0m_info_axis\u001b[0m\u001b[0;34m.\u001b[0m\u001b[0m_can_hold_identifiers_and_holds_name\u001b[0m\u001b[0;34m(\u001b[0m\u001b[0mname\u001b[0m\u001b[0;34m)\u001b[0m\u001b[0;34m\u001b[0m\u001b[0;34m\u001b[0m\u001b[0m\n\u001b[1;32m   5987\u001b[0m         ):\n\u001b[1;32m   5988\u001b[0m             \u001b[0;32mreturn\u001b[0m \u001b[0mself\u001b[0m\u001b[0;34m[\u001b[0m\u001b[0mname\u001b[0m\u001b[0;34m]\u001b[0m\u001b[0;34m\u001b[0m\u001b[0;34m\u001b[0m\u001b[0m\n\u001b[0;32m-> 5989\u001b[0;31m         \u001b[0;32mreturn\u001b[0m \u001b[0mobject\u001b[0m\u001b[0;34m.\u001b[0m\u001b[0m__getattribute__\u001b[0m\u001b[0;34m(\u001b[0m\u001b[0mself\u001b[0m\u001b[0;34m,\u001b[0m \u001b[0mname\u001b[0m\u001b[0;34m)\u001b[0m\u001b[0;34m\u001b[0m\u001b[0;34m\u001b[0m\u001b[0m\n\u001b[0m",
      "\u001b[0;31mAttributeError\u001b[0m: 'DataFrame' object has no attribute 'to_excell'"
     ]
    }
   ],
   "source": [
    "k=df.fillna(method='pad')\n",
    "print(k)\n",
    "\n",
    "k.to_excell(\"marksheet.xlsx\")"
   ]
  },
  {
   "cell_type": "code",
   "execution_count": 32,
   "id": "8082f6eb",
   "metadata": {},
   "outputs": [
    {
     "name": "stdout",
     "output_type": "stream",
     "text": [
      "   Roll no.  ...  EM 2\n",
      "0         1  ...  63.0\n",
      "1         2  ...  56.0\n",
      "2         3  ...  53.0\n",
      "3         4  ...  53.0\n",
      "4         5  ...  76.0\n",
      "5         6  ...  23.0\n",
      "6         7  ...  75.0\n",
      "7         8  ...  75.0\n",
      "8         9  ...  65.0\n",
      "9        10  ...  34.0\n",
      "\n",
      "[10 rows x 5 columns]\n"
     ]
    }
   ],
   "source": [
    "k.drop(['T&D'], axis=1,inplace=True)\n",
    "print(k)\n",
    "k.to_excel(\"marksheet.xlsx\")"
   ]
  },
  {
   "cell_type": "code",
   "execution_count": 35,
   "id": "57348877",
   "metadata": {},
   "outputs": [
    {
     "name": "stdout",
     "output_type": "stream",
     "text": [
      "\n",
      "Drop NaN row\n",
      "\n",
      "   Unnamed: 0  ...  EM 2\n",
      "0           0  ...    63\n",
      "1           1  ...    56\n",
      "2           2  ...    53\n",
      "3           3  ...    53\n",
      "4           4  ...    76\n",
      "5           5  ...    23\n",
      "6           6  ...    75\n",
      "7           7  ...    75\n",
      "8           8  ...    65\n",
      "9           9  ...    34\n",
      "\n",
      "[10 rows x 6 columns]\n",
      "   Unnamed: 0  ...  EM 2\n",
      "0           0  ...    63\n",
      "1           1  ...    56\n",
      "2           2  ...    53\n",
      "3           3  ...    53\n",
      "4           4  ...    76\n",
      "5           5  ...    23\n",
      "6           6  ...    75\n",
      "7           7  ...    75\n",
      "8           8  ...    65\n",
      "9           9  ...    34\n",
      "\n",
      "[10 rows x 6 columns]\n"
     ]
    }
   ],
   "source": [
    "print(\"\\nDrop NaN row\\n\")\n",
    "df=pd.read_excel(\"marksheet.xlsx\")\n",
    "print(df)\n",
    "x=df.dropna()\n",
    "print(x)\n",
    "x.to_excel(\"marksheet.xlsx\")"
   ]
  },
  {
   "cell_type": "code",
   "execution_count": 37,
   "id": "885de3d5",
   "metadata": {
    "scrolled": true
   },
   "outputs": [
    {
     "name": "stdout",
     "output_type": "stream",
     "text": [
      "\n",
      " Replace value\n",
      "\n",
      "   Unnamed: 0.1  ...  EM 2\n",
      "0             0  ...    63\n",
      "1             1  ...    56\n",
      "2             2  ...    53\n",
      "3             3  ...    53\n",
      "4             4  ...    76\n",
      "5             5  ...    23\n",
      "6             6  ...    75\n",
      "7             7  ...    75\n",
      "8             8  ...    65\n",
      "9             9  ...    34\n",
      "\n",
      "[10 rows x 7 columns]\n",
      "   Unnamed: 0.1  ...  EM 2\n",
      "0             0  ...    63\n",
      "1             1  ...    56\n",
      "2             2  ...    53\n",
      "3             3  ...    53\n",
      "4             4  ...    76\n",
      "5             5  ...    23\n",
      "6             6  ...    75\n",
      "7             7  ...    75\n",
      "8             8  ...    65\n",
      "9             9  ...    34\n",
      "\n",
      "[10 rows x 7 columns]\n"
     ]
    }
   ],
   "source": [
    "print(\"\\n Replace value\\n\")\n",
    "n=pd.read_excel(\"marksheet.xlsx\")\n",
    "print(n)\n",
    "y=n.replace({88:90})\n",
    "print(y)\n",
    "y.to_excel(\"marksheet.xlsx\")"
   ]
  },
  {
   "cell_type": "code",
   "execution_count": 38,
   "id": "6e968806",
   "metadata": {},
   "outputs": [
    {
     "name": "stdout",
     "output_type": "stream",
     "text": [
      "   Unnamed: 0.2  ...  EM 2\n",
      "0             0  ...    63\n",
      "1             1  ...    56\n",
      "2             2  ...    53\n",
      "3             3  ...    53\n",
      "4             4  ...    76\n",
      "5             5  ...    23\n",
      "6             6  ...    75\n",
      "7             7  ...    75\n",
      "8             8  ...    65\n",
      "9             9  ...    34\n",
      "\n",
      "[10 rows x 8 columns]\n",
      "\n",
      " Extract using isin() function \n",
      "\n",
      "Empty DataFrame\n",
      "Columns: [Unnamed: 0.2, Unnamed: 0.1, Unnamed: 0, Roll no., Name, LICA, DLC, EM 2]\n",
      "Index: []\n",
      "\n",
      "[0 rows x 8 columns]\n"
     ]
    }
   ],
   "source": [
    "df=pd.read_excel(\"marksheet.xlsx\")\n",
    "print(df)\n",
    "print('\\n Extract using isin() function \\n')\n",
    "new=df['DLC'].isin([50])\n",
    "print(df[new])"
   ]
  },
  {
   "cell_type": "code",
   "execution_count": null,
   "id": "432fff23",
   "metadata": {},
   "outputs": [],
   "source": []
  }
 ],
 "metadata": {
  "kernelspec": {
   "display_name": "Python 3 (ipykernel)",
   "language": "python",
   "name": "python3"
  },
  "language_info": {
   "codemirror_mode": {
    "name": "ipython",
    "version": 3
   },
   "file_extension": ".py",
   "mimetype": "text/x-python",
   "name": "python",
   "nbconvert_exporter": "python",
   "pygments_lexer": "ipython3",
   "version": "3.11.5"
  }
 },
 "nbformat": 4,
 "nbformat_minor": 5
}
