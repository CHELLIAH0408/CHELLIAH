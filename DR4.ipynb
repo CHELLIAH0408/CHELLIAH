{
 "cells": [
  {
   "cell_type": "code",
   "execution_count": 1,
   "id": "1829396e",
   "metadata": {},
   "outputs": [
    {
     "name": "stdout",
     "output_type": "stream",
     "text": [
      "       A      B  C  D  E\n",
      "0    sai    one  2  4  4\n",
      "1   subu    two  2  2  1\n",
      "2  Divya  three  1  3  0\n",
      "3   yuvi    one  4  4  3\n",
      "4  rithi  three  1  3  2\n",
      "5  sangi    two  2  1  2\n"
     ]
    }
   ],
   "source": [
    "import pandas as pd\n",
    "import numpy as np\n",
    "df=pd.DataFrame({'A':['sai','subu','Divya','yuvi','rithi','sangi'],'B':['one','two','three','one','three','two'], 'C':np.random.randint(5,size =6),'D':np.random.randint(5,size=6),'E':np.random.randint(5,size=6)})\n",
    "print(df)"
   ]
  },
  {
   "cell_type": "code",
   "execution_count": 9,
   "id": "cfd72a78",
   "metadata": {},
   "outputs": [
    {
     "name": "stdout",
     "output_type": "stream",
     "text": [
      "       A      B  C  D\n",
      "0    sai    one  1  0\n",
      "1    poo    two  4  3\n",
      "2    sub  three  1  1\n",
      "3   yuvi    one  4  4\n",
      "4  rithi  three  4  2\n",
      "5  sangu    two  2  0\n",
      "6    sai    one  3  1\n",
      "7    poo    two  1  2\n",
      "       A  C\n",
      "0    poo  5\n",
      "1  rithi  4\n",
      "2    sai  4\n",
      "3  sangu  2\n",
      "4    sub  1\n",
      "5   yuvi  4\n"
     ]
    }
   ],
   "source": [
    "import pandas as pd\n",
    "import numpy as np\n",
    "df=pd.DataFrame({'A':['sai','poo','sub','yuvi','rithi','sangu','sai','poo'],'B':['one','two','three','one','three','two','one','two'],'C':np.random.randint(5,size=8),'D':np.random.randint(5,size=8)})\n",
    "print(df)\n",
    "df1=df.groupby('A', as_index=False)['C'].sum()\n",
    "print(df1)"
   ]
  },
  {
   "cell_type": "code",
   "execution_count": 10,
   "id": "f4eeda03",
   "metadata": {},
   "outputs": [
    {
     "name": "stdout",
     "output_type": "stream",
     "text": [
      "       A      B  C  D\n",
      "0    sai    one  3  2\n",
      "1    poo    two  4  3\n",
      "2    sub  three  1  3\n",
      "3   yuvi    one  1  2\n",
      "4  rithi  three  4  3\n",
      "5  sangu    two  0  2\n",
      "6    sai    one  1  2\n",
      "7    poo    two  1  3\n",
      "       A      B  C  D\n",
      "0    poo    two  5  6\n",
      "1  rithi  three  4  3\n",
      "2    sai    one  4  4\n",
      "3  sangu    two  0  2\n",
      "4    sub  three  1  3\n",
      "5   yuvi    one  1  2\n"
     ]
    },
    {
     "name": "stderr",
     "output_type": "stream",
     "text": [
      "C:\\Users\\REC\\AppData\\Local\\Temp\\ipykernel_8048\\3740397019.py:5: FutureWarning: Indexing with multiple keys (implicitly converted to a tuple of keys) will be deprecated, use a list instead.\n",
      "  df1=df.groupby(['A','B'], as_index=False)['C','D'].sum()\n"
     ]
    }
   ],
   "source": [
    "import pandas as pd\n",
    "import numpy as np\n",
    "df=pd.DataFrame({'A':['sai','poo','sub','yuvi','rithi','sangu','sai','poo'],'B':['one','two','three','one','three','two','one','two'],'C':np.random.randint(5,size=8),'D':np.random.randint(5,size=8)})\n",
    "print(df)\n",
    "df1=df.groupby(['A','B'], as_index=False)['C','D'].sum()\n",
    "print(df1)"
   ]
  },
  {
   "cell_type": "code",
   "execution_count": 1,
   "id": "ec5a918d",
   "metadata": {},
   "outputs": [
    {
     "name": "stdout",
     "output_type": "stream",
     "text": [
      "\n",
      " original data from\n",
      "   category  sales  profit\n",
      "0        A    100      10\n",
      "1        B    200      15\n",
      "2        C    150      20\n",
      "3        A    150      25\n",
      "4        B    130      30\n",
      "5        C    200      15\n"
     ]
    }
   ],
   "source": [
    "import numpy as np\n",
    "import pandas as pd\n",
    "df=pd.DataFrame({'category':['A','B','C','A','B','C'], 'sales':[100,200,150,150,130,200],'profit':[10,15,20,25,30,15]})\n",
    "print(\"\\n original data from\\n\",df)"
   ]
  },
  {
   "cell_type": "code",
   "execution_count": 2,
   "id": "fca41c49",
   "metadata": {},
   "outputs": [
    {
     "name": "stdout",
     "output_type": "stream",
     "text": [
      "         sales        profit    \n",
      "           sum   mean    sum max\n",
      "category                        \n",
      "A          250  125.0     35  25\n",
      "B          330  165.0     45  30\n",
      "C          350  175.0     35  20\n"
     ]
    }
   ],
   "source": [
    "df_grouped=df.groupby('category').agg({'sales':['sum','mean'],'profit':['sum','max']})\n",
    "print(df_grouped)"
   ]
  },
  {
   "cell_type": "code",
   "execution_count": null,
   "id": "7405b7fc",
   "metadata": {},
   "outputs": [],
   "source": []
  }
 ],
 "metadata": {
  "kernelspec": {
   "display_name": "Python 3 (ipykernel)",
   "language": "python",
   "name": "python3"
  },
  "language_info": {
   "codemirror_mode": {
    "name": "ipython",
    "version": 3
   },
   "file_extension": ".py",
   "mimetype": "text/x-python",
   "name": "python",
   "nbconvert_exporter": "python",
   "pygments_lexer": "ipython3",
   "version": "3.11.4"
  }
 },
 "nbformat": 4,
 "nbformat_minor": 5
}
